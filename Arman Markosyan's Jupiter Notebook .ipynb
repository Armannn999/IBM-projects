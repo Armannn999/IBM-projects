{
    "cells": [
        {
            "cell_type": "markdown",
            "metadata": {},
            "source": "# My Jupyter Notebook on IBM Watson Studio"
        },
        {
            "cell_type": "markdown",
            "metadata": {},
            "source": "**I am Arman Markosyan.**\nCurrent occupation:Math teacher"
        },
        {
            "cell_type": "markdown",
            "metadata": {},
            "source": "_I would like to be a business analyst in the future.Hopefully this course will put me on the right path and give me the necesary skills to achieve my goals_"
        },
        {
            "cell_type": "markdown",
            "metadata": {
                "collapsed": true
            },
            "source": "### This code converts temperature from Fahrenheit to Celsius in Python"
        },
        {
            "cell_type": "code",
            "execution_count": 3,
            "metadata": {},
            "outputs": [
                {
                    "name": "stdout",
                    "output_type": "stream",
                    "text": "Enter Temperature in Fahrenheit: \n110\n\nEquivalent Temperature in Celsius:  43.333333333333336\n"
                }
            ],
            "source": "print(\"Enter Temperature in Fahrenheit: \")\nfah = float(input())\n\ncel = (fah-32)/1.8\nprint(\"\\nEquivalent Temperature in Celsius: \", cel)"
        },
        {
            "cell_type": "markdown",
            "metadata": {},
            "source": "[Fahrenheit to Celsiushttps]://www.metric-conversions.org/temperature/celsius-to-fahrenheit.htm"
        },
        {
            "cell_type": "markdown",
            "metadata": {},
            "source": "[Celsius to Fahrenheit (\u00b0C to \u00b0F)](https://www.metric-conversions.org/temperature/fahrenheit-to-celsius.htm)\n \n \n \n ~~Failure~~\n \n \n Temperature scales list\n 1. Fahrenheint\n 2. Celsius\n 3. Kelvin\n 4. Rankin"
        },
        {
            "cell_type": "code",
            "execution_count": null,
            "metadata": {},
            "outputs": [],
            "source": ""
        }
    ],
    "metadata": {
        "kernelspec": {
            "display_name": "Python 3.9",
            "language": "python",
            "name": "python3"
        },
        "language_info": {
            "codemirror_mode": {
                "name": "ipython",
                "version": 3
            },
            "file_extension": ".py",
            "mimetype": "text/x-python",
            "name": "python",
            "nbconvert_exporter": "python",
            "pygments_lexer": "ipython3",
            "version": "3.9.7"
        }
    },
    "nbformat": 4,
    "nbformat_minor": 1
}